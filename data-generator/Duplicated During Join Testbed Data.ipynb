{
 "cells": [
  {
   "cell_type": "code",
   "execution_count": null,
   "metadata": {},
   "outputs": [],
   "source": [
    "import pandas as pd\n",
    "import subprocess"
   ]
  },
  {
   "cell_type": "code",
   "execution_count": null,
   "metadata": {},
   "outputs": [],
   "source": [
    "def sample(x, n):\n",
    "    \"\"\"\n",
    "     Get n number of rows as a sample\n",
    "    \"\"\"\n",
    "    return x.iloc[list(range(n))]"
   ]
  },
  {
   "cell_type": "code",
   "execution_count": null,
   "metadata": {},
   "outputs": [],
   "source": [
    "def generate_table(nrows, IDstart=1, P1start=1):\n",
    "    \"\"\"\n",
    "     Generate table which contain [ID,P1] columns\n",
    "     - nrows: number of rows per table\n",
    "     - IDstart: starting sequence for ID column\n",
    "     - P1start: starting number for P1 column\n",
    "     \n",
    "     return generated table `table1`\n",
    "    \"\"\"\n",
    "    subjID = range(IDstart, nrows+IDstart)\n",
    "    P1 = [\"V_\" + str(i) for i in range(P1start, P1start + nrows)]\n",
    "    data = {\"ID\": subjID, \"P1\": P1}\n",
    "    table1 = pd.DataFrame(data)\n",
    "    return table1"
   ]
  },
  {
   "cell_type": "markdown",
   "metadata": {},
   "source": [
    "# Duplicates introduced while creating links between two tables"
   ]
  },
  {
   "cell_type": "code",
   "execution_count": null,
   "metadata": {},
   "outputs": [],
   "source": [
    "def update_joinable_duplicates(table1, \n",
    "                              table2,\n",
    "                              nrows, \n",
    "                              num_duplicate_per_join,\n",
    "                              percentage_duplicates\n",
    "                              ):    \n",
    "        \n",
    "    duplicates = nrows * percentage_duplicates\n",
    "    if num_duplicate_per_join <= 0:\n",
    "        num_duplicate_per_join = 1\n",
    "    \n",
    "    num_P1s = duplicates / num_duplicate_per_join\n",
    "    \n",
    "    nums = num_P1s * (num_duplicate_per_join + 1)\n",
    "    \n",
    "    table1_sample = sample(table1, int(nums))  \n",
    "    values = list(set([row[1]['P1'] for  row in table1_sample.iterrows()]))\n",
    "    if len(values) > nrows:\n",
    "        values = values[:nrows] \n",
    "        \n",
    "    table2_sample = sample(table2, int(nums))  \n",
    "    rid = -1\n",
    "    rcount = 0\n",
    "    for i, j in zip(values, list(table2_sample.index)):\n",
    "        if rid == -1:\n",
    "            rid = int(table2.loc[j, 'ID'])\n",
    "        table2.loc[j, 'ID'] =  rid\n",
    "        table2.loc[j, 'P1'] =  i\n",
    "        rcount += 1\n",
    "        if rcount >= num_duplicate_per_join:\n",
    "            rid = -1 \n",
    "            rcount = 0\n",
    "            \n",
    "    return table1, table2"
   ]
  },
  {
   "cell_type": "code",
   "execution_count": null,
   "metadata": {},
   "outputs": [],
   "source": [
    "# percentage of rows that will produce duplicates during joining from table1 to table2\n",
    "DP = [0.05, 0.1, 0.2, 0.3, 0.4, 0.5]\n",
    "\n",
    "# number of duplicates per subject\n",
    "D = [3, 5, 10, 20]\n",
    "\n",
    "# number of rows per table\n",
    "nrows = [1000, 3000, 10000, 50000, 100000]\n",
    "\n",
    "for nrow in nrows:      \n",
    "    subprocess.check_call('mkdir -p ../data/JoinDuplicates/'+ str(int(nrow/1000)) + 'k_rows', shell=True)\n",
    "    table1 = generate_table(nrow)\n",
    "    table1.to_csv('../data/JoinDuplicates/'+ str(int(nrow/1000)) + 'k_rows/table1.csv', index=False )\n",
    "    for dp in DP:\n",
    "        for d in D:                        \n",
    "            table2 = generate_table(nrow, P1start=nrow+1)\n",
    "            table1, table2 = update_joinable_duplicates(table1, table2, nrow, d, dp)\n",
    "            table2.to_csv('../data/JoinDuplicates/'+ str(int(nrow/1000)) + 'k_rows/table2_' + \\\n",
    "                          str(d)+ \"_\" + str(int(100*dp)) + '_percent.csv', index=False )"
   ]
  },
  {
   "cell_type": "code",
   "execution_count": null,
   "metadata": {},
   "outputs": [],
   "source": []
  }
 ],
 "metadata": {
  "kernelspec": {
   "display_name": "Python 3",
   "language": "python",
   "name": "python3"
  },
  "language_info": {
   "codemirror_mode": {
    "name": "ipython",
    "version": 3
   },
   "file_extension": ".py",
   "mimetype": "text/x-python",
   "name": "python",
   "nbconvert_exporter": "python",
   "pygments_lexer": "ipython3",
   "version": "3.6.6"
  }
 },
 "nbformat": 4,
 "nbformat_minor": 2
}
