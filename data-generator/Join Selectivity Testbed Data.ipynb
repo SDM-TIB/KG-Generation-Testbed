{
 "cells": [
  {
   "cell_type": "code",
   "execution_count": 1,
   "metadata": {},
   "outputs": [],
   "source": [
    "import pandas as pd\n",
    "import subprocess"
   ]
  },
  {
   "cell_type": "code",
   "execution_count": 2,
   "metadata": {},
   "outputs": [],
   "source": [
    "def sample(x, n):\n",
    "    \"\"\"\n",
    "     Get n number of rows as a sample\n",
    "    \"\"\"\n",
    "    # import random\n",
    "    # print(random.sample(list(x.index), n))\n",
    "    return x.iloc[list(range(n))]"
   ]
  },
  {
   "cell_type": "code",
   "execution_count": 3,
   "metadata": {},
   "outputs": [],
   "source": [
    "def generate_table(nrows, IDstart=1, P1start=1, ncols=1 ):\n",
    "    \"\"\"\n",
    "     Generate table which contain [ID,P1, ..] columns\n",
    "     - nrows: number of rows per table\n",
    "     - ncols: number of columns\n",
    "     - IDstart: starting sequence for ID column\n",
    "     - P1start: starting number for P1 column\n",
    "     \n",
    "     return generated table `table1`\n",
    "    \"\"\"\n",
    "    subjID = range(IDstart, nrows+IDstart)\n",
    "    data = {\"ID\": subjID}\n",
    "    for j in range(1, ncols+1):\n",
    "        P = [\"V_\"  + str(j) + \"-\" + str(i) for i in range(P1start, P1start + nrows)]\n",
    "        if j < 10:\n",
    "            data[\"P0\" + str(j) ] =  P\n",
    "        else:\n",
    "            data[\"P\" + str(j) ] =  P\n",
    "    \n",
    "    table1 = pd.DataFrame(data)\n",
    "    return table1"
   ]
  },
  {
   "cell_type": "code",
   "execution_count": 10,
   "metadata": {},
   "outputs": [],
   "source": [
    "def generate_join_selectivity(table1, table2, nrows, percentage):    \n",
    "    \"\"\"\n",
    "    Sample rows for percentage and update the sampled rows\n",
    "    return: updated table2 \n",
    "    \"\"\"\n",
    "    prows = nrows * percentage\n",
    "    \n",
    "    tbl1_sample = sample(table1, int(prows))\n",
    "    tbl2_sample = sample(table2, int(prows)) \n",
    "    \n",
    "    for i, j in zip(list(tbl1_sample.index), list(tbl2_sample.index)):           \n",
    "        table2.loc[j, 'P1'] =  table1.loc[i, 'P1']\n",
    "        \n",
    "    return table2"
   ]
  },
  {
   "cell_type": "markdown",
   "metadata": {},
   "source": [
    "# 1. Low Selectivity"
   ]
  },
  {
   "cell_type": "code",
   "execution_count": 11,
   "metadata": {},
   "outputs": [],
   "source": [
    "# Number of rows per table\n",
    "nrows = [1000, 3000, 10000, 50000]#, 100000]\n",
    "percentages = [0.6, 0.8, 1.0]\n",
    "for nrow in nrows:\n",
    "    # Create folder\n",
    "    subprocess.check_call('mkdir -p ../data/joinselectivity/low_selectivity/'+ str(int(nrow/1000)) + 'k_rows', shell=True)    \n",
    "    # generate table 1\n",
    "    table1 = generate_table(nrow)\n",
    "    table1.to_csv('../data/joinselectivity/low_selectivity/'+ str(int(nrow/1000)) + 'k_rows/table1.csv', index=False )\n",
    "    for p in percentages:\n",
    "        # generate table 2\n",
    "        table2 = generate_table(nrow, P1start=nrow+1)\n",
    "        table2 = generate_join_selectivity(table1, table2, nrow, p)                \n",
    "        table2.to_csv('../data/joinselectivity/low_selectivity/'+ str(int(nrow/1000)) + \\\n",
    "                      'k_rows/table2_' + str(int(100*p)) + '_percent.csv', index=False )    "
   ]
  },
  {
   "cell_type": "markdown",
   "metadata": {},
   "source": [
    "# 2. High Selectivity"
   ]
  },
  {
   "cell_type": "markdown",
   "metadata": {},
   "source": [
    "## 5 %, 10 %, 20 %, 30 % of data involved in the join condition"
   ]
  },
  {
   "cell_type": "code",
   "execution_count": 7,
   "metadata": {},
   "outputs": [],
   "source": [
    "# Number of rows per table\n",
    "nrows = [1000, 3000, 10000, 50000]#, 100000]\n",
    "\n",
    "# Percentage of data involved in the join condition\n",
    "percentages = [0.05, 0.1, 0.2, 0.3, 0.5]\n",
    "\n",
    "for nrow in nrows:\n",
    "    # Create folder\n",
    "    subprocess.check_call('mkdir -p ../data/joinselectivity/high_selectivity/'+ str(int(nrow/1000)) + 'k_rows', shell=True)    \n",
    "    # generate table 1\n",
    "    table1 = generate_table(nrow)\n",
    "    table1.to_csv('../data/joinselectivity/high_selectivity/'+ str(int(nrow/1000)) + 'k_rows/table1.csv', index=False )\n",
    "    for p in percentages:\n",
    "        # generate table 2\n",
    "        table2 = generate_table(nrow, P1start=nrow+1)\n",
    "        table2 = generate_join_selectivity(table1, table2, nrow, p)                \n",
    "        table2.to_csv('../data/joinselectivity/high_selectivity/'+ str(int(nrow/1000)) + \\\n",
    "                      'k_rows/table2_' + str(int(100*p)) + '_percent.csv', index=False )"
   ]
  },
  {
   "cell_type": "code",
   "execution_count": null,
   "metadata": {},
   "outputs": [],
   "source": []
  }
 ],
 "metadata": {
  "kernelspec": {
   "display_name": "Python 3",
   "language": "python",
   "name": "python3"
  },
  "language_info": {
   "codemirror_mode": {
    "name": "ipython",
    "version": 3
   },
   "file_extension": ".py",
   "mimetype": "text/x-python",
   "name": "python",
   "nbconvert_exporter": "python",
   "pygments_lexer": "ipython3",
   "version": "3.6.4"
  }
 },
 "nbformat": 4,
 "nbformat_minor": 2
}
