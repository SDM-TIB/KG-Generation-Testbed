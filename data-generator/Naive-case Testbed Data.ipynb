{
 "cells": [
  {
   "cell_type": "code",
   "execution_count": null,
   "metadata": {},
   "outputs": [],
   "source": [
    "import pandas as pd\n",
    "import subprocess\n",
    "import random\n",
    "SEED = 13\n",
    "random.seed(SEED)"
   ]
  },
  {
   "cell_type": "code",
   "execution_count": null,
   "metadata": {},
   "outputs": [],
   "source": [
    "def sample(x, n):\n",
    "    \"\"\"\n",
    "     Get n number of rows as a sample\n",
    "    \"\"\"\n",
    "    # import random\n",
    "    # print(random.sample(list(x.index), n))\n",
    "    return x.iloc[list(range(n))]"
   ]
  },
  {
   "cell_type": "code",
   "execution_count": null,
   "metadata": {},
   "outputs": [],
   "source": [
    "def generate_table(nrows, IDstart=1, P1start=1, ncols=1 ):\n",
    "    \"\"\"\n",
    "     Generate table which contain [ID,P1, ..] columns\n",
    "     - nrows: number of rows per table\n",
    "     - ncols: number of columns\n",
    "     - IDstart: starting sequence for ID column\n",
    "     - P1start: starting number for P1 column\n",
    "     \n",
    "     return generated table `table1`\n",
    "    \"\"\"\n",
    "    subjID = range(IDstart, nrows+IDstart)\n",
    "    data = {\"ID\": subjID}\n",
    "    for j in range(1, ncols+1):\n",
    "        P = [\"V_\"  + str(j) + \"-\" + str(i) for i in range(P1start, P1start + nrows)]\n",
    "        if j < 10:\n",
    "            data[\"P0\" + str(j) ] =  P\n",
    "        else:\n",
    "            data[\"P\" + str(j) ] =  P\n",
    "    \n",
    "    table1 = pd.DataFrame(data)\n",
    "    return table1"
   ]
  },
  {
   "cell_type": "markdown",
   "metadata": {},
   "source": [
    "# Näive cases"
   ]
  },
  {
   "cell_type": "code",
   "execution_count": null,
   "metadata": {},
   "outputs": [],
   "source": [
    "ncols = [1, 4, 9, 19, 29]\n",
    "nrows = [1000, 3000, 10000, 50000]#, 100000]\n",
    "for nrow in nrows:      \n",
    "    for c in ncols:\n",
    "        # Create folder\n",
    "        subprocess.check_call('mkdir -p ../data/naive/' + str(int(nrow/1000)) + 'k_rows', shell=True)    \n",
    "        # generate table 1          \n",
    "        table1 = generate_table(nrow, ncols=c)\n",
    "        table1.to_csv('../data/naive/'+ str(int(nrow/1000)) + 'k_rows/' +  \\\n",
    "                              str(c+1) + '_columns_table.csv', index=False )"
   ]
  },
  {
   "cell_type": "code",
   "execution_count": null,
   "metadata": {},
   "outputs": [],
   "source": []
  }
 ],
 "metadata": {
  "kernelspec": {
   "display_name": "Python 3",
   "language": "python",
   "name": "python3"
  },
  "language_info": {
   "codemirror_mode": {
    "name": "ipython",
    "version": 3
   },
   "file_extension": ".py",
   "mimetype": "text/x-python",
   "name": "python",
   "nbconvert_exporter": "python",
   "pygments_lexer": "ipython3",
   "version": "3.6.6"
  }
 },
 "nbformat": 4,
 "nbformat_minor": 2
}
